{
 "cells": [
  {
   "cell_type": "code",
   "execution_count": 12,
   "id": "civil-township",
   "metadata": {
    "ExecuteTime": {
     "end_time": "2021-08-27T20:47:54.640823Z",
     "start_time": "2021-08-27T20:47:47.931435Z"
    }
   },
   "outputs": [
    {
     "name": "stdout",
     "output_type": "stream",
     "text": [
      "Collecting catboost\n",
      "  Downloading catboost-0.26.1-cp38-none-macosx_10_6_intel.macosx_10_9_intel.macosx_10_9_x86_64.macosx_10_10_intel.macosx_10_10_x86_64.whl (12.0 MB)\n",
      "\u001b[K     |████████████████████████████████| 12.0 MB 2.6 MB/s eta 0:00:01\n",
      "\u001b[?25hRequirement already satisfied: six in /Users/lingxiaolyu/anaconda/anaconda3/lib/python3.8/site-packages (from catboost) (1.15.0)\n",
      "Requirement already satisfied: matplotlib in /Users/lingxiaolyu/anaconda/anaconda3/lib/python3.8/site-packages (from catboost) (3.3.4)\n",
      "Requirement already satisfied: scipy in /Users/lingxiaolyu/anaconda/anaconda3/lib/python3.8/site-packages (from catboost) (1.6.0)\n",
      "Requirement already satisfied: numpy>=1.16.0 in /Users/lingxiaolyu/anaconda/anaconda3/lib/python3.8/site-packages (from catboost) (1.19.2)\n",
      "Collecting graphviz\n",
      "  Downloading graphviz-0.17-py3-none-any.whl (18 kB)\n",
      "Requirement already satisfied: plotly in /Users/lingxiaolyu/anaconda/anaconda3/lib/python3.8/site-packages (from catboost) (4.14.3)\n",
      "Requirement already satisfied: pandas>=0.24.0 in /Users/lingxiaolyu/anaconda/anaconda3/lib/python3.8/site-packages (from catboost) (1.2.2)\n",
      "Requirement already satisfied: pytz>=2017.3 in /Users/lingxiaolyu/anaconda/anaconda3/lib/python3.8/site-packages (from pandas>=0.24.0->catboost) (2021.1)\n",
      "Requirement already satisfied: python-dateutil>=2.7.3 in /Users/lingxiaolyu/anaconda/anaconda3/lib/python3.8/site-packages (from pandas>=0.24.0->catboost) (2.8.1)\n",
      "Requirement already satisfied: pillow>=6.2.0 in /Users/lingxiaolyu/anaconda/anaconda3/lib/python3.8/site-packages (from matplotlib->catboost) (8.1.0)\n",
      "Requirement already satisfied: kiwisolver>=1.0.1 in /Users/lingxiaolyu/anaconda/anaconda3/lib/python3.8/site-packages (from matplotlib->catboost) (1.3.1)\n",
      "Requirement already satisfied: pyparsing!=2.0.4,!=2.1.2,!=2.1.6,>=2.0.3 in /Users/lingxiaolyu/anaconda/anaconda3/lib/python3.8/site-packages (from matplotlib->catboost) (2.4.7)\n",
      "Requirement already satisfied: cycler>=0.10 in /Users/lingxiaolyu/anaconda/anaconda3/lib/python3.8/site-packages (from matplotlib->catboost) (0.10.0)\n",
      "Requirement already satisfied: retrying>=1.3.3 in /Users/lingxiaolyu/anaconda/anaconda3/lib/python3.8/site-packages (from plotly->catboost) (1.3.3)\n",
      "Installing collected packages: graphviz, catboost\n",
      "Successfully installed catboost-0.26.1 graphviz-0.17\n"
     ]
    }
   ],
   "source": [
    "import pickle\n",
    "!pip install catboost\n",
    "from catboost import CatBoost\n",
    "model = pickle.load(open(\"./model/gbclassifier.pkl\", \"rb\"))"
   ]
  },
  {
   "cell_type": "code",
   "execution_count": 7,
   "id": "billion-oracle",
   "metadata": {
    "ExecuteTime": {
     "end_time": "2021-08-27T20:45:58.201566Z",
     "start_time": "2021-08-27T20:45:58.194619Z"
    }
   },
   "outputs": [
    {
     "data": {
      "text/plain": [
       "<bound method BaseEstimator.get_params of GradientBoostingClassifier(max_depth=4, max_features='auto', n_estimators=10,\n",
       "                           random_state=42)>"
      ]
     },
     "execution_count": 7,
     "metadata": {},
     "output_type": "execute_result"
    }
   ],
   "source": [
    "model.get_params"
   ]
  },
  {
   "cell_type": "code",
   "execution_count": 26,
   "id": "pediatric-recorder",
   "metadata": {
    "ExecuteTime": {
     "end_time": "2021-08-27T21:36:05.107260Z",
     "start_time": "2021-08-27T21:36:05.095581Z"
    }
   },
   "outputs": [],
   "source": [
    "import json\n",
    "import pickle\n",
    "import requests\n",
    "from sklearn.base import BaseEstimator\n",
    "from sklearn.ensemble import GradientBoostingClassifier\n",
    "\n",
    "class MyEstimator(BaseEstimator):\n",
    "     def __init__(self, estimator=None, my_extra_param=\"random\"):\n",
    "         self.estimator = estimator\n",
    "         self.my_extra_param = my_extra_param\n",
    "\n",
    "load_model = pickle.load(open(\"./model/gbclassifier.pkl\", \"rb\"))\n",
    "my_estimator = MyEstimator(estimator=GradientBoostingClassifier())\n",
    "param_dict = dict()\n",
    "for param, value in my_estimator.get_params(deep=True).items():\n",
    "    param_dict[param] = value"
   ]
  },
  {
   "cell_type": "code",
   "execution_count": 31,
   "id": "promising-smart",
   "metadata": {
    "ExecuteTime": {
     "end_time": "2021-08-27T21:38:13.974195Z",
     "start_time": "2021-08-27T21:38:13.968766Z"
    }
   },
   "outputs": [],
   "source": [
    "update_param_dict = dict()\n",
    "for key in param_dict.keys():\n",
    "    if param_dict[key] != None:\n",
    "        update_param_dict[key] = str(param_dict[key])"
   ]
  },
  {
   "cell_type": "code",
   "execution_count": 32,
   "id": "empty-despite",
   "metadata": {
    "ExecuteTime": {
     "end_time": "2021-08-27T21:38:14.509767Z",
     "start_time": "2021-08-27T21:38:14.504327Z"
    }
   },
   "outputs": [
    {
     "data": {
      "text/plain": [
       "{'estimator__ccp_alpha': '0.0',\n",
       " 'estimator__criterion': 'friedman_mse',\n",
       " 'estimator__learning_rate': '0.1',\n",
       " 'estimator__loss': 'deviance',\n",
       " 'estimator__max_depth': '3',\n",
       " 'estimator__min_impurity_decrease': '0.0',\n",
       " 'estimator__min_samples_leaf': '1',\n",
       " 'estimator__min_samples_split': '2',\n",
       " 'estimator__min_weight_fraction_leaf': '0.0',\n",
       " 'estimator__n_estimators': '100',\n",
       " 'estimator__subsample': '1.0',\n",
       " 'estimator__tol': '0.0001',\n",
       " 'estimator__validation_fraction': '0.1',\n",
       " 'estimator__verbose': '0',\n",
       " 'estimator__warm_start': 'False',\n",
       " 'estimator': 'GradientBoostingClassifier()',\n",
       " 'my_extra_param': 'random'}"
      ]
     },
     "execution_count": 32,
     "metadata": {},
     "output_type": "execute_result"
    }
   ],
   "source": [
    "update_param_dict"
   ]
  },
  {
   "cell_type": "code",
   "execution_count": null,
   "id": "unauthorized-display",
   "metadata": {},
   "outputs": [],
   "source": [
    "update_param_dict"
   ]
  }
 ],
 "metadata": {
  "kernelspec": {
   "display_name": "Python 3",
   "language": "python",
   "name": "python3"
  },
  "language_info": {
   "codemirror_mode": {
    "name": "ipython",
    "version": 3
   },
   "file_extension": ".py",
   "mimetype": "text/x-python",
   "name": "python",
   "nbconvert_exporter": "python",
   "pygments_lexer": "ipython3",
   "version": "3.8.5"
  },
  "latex_envs": {
   "LaTeX_envs_menu_present": true,
   "autoclose": true,
   "autocomplete": true,
   "bibliofile": "biblio.bib",
   "cite_by": "apalike",
   "current_citInitial": 1,
   "eqLabelWithNumbers": true,
   "eqNumInitial": 1,
   "hotkeys": {
    "equation": "Ctrl-E",
    "itemize": "Ctrl-I"
   },
   "labels_anchors": false,
   "latex_user_defs": false,
   "report_style_numbering": false,
   "user_envs_cfg": false
  },
  "toc": {
   "base_numbering": 1,
   "nav_menu": {},
   "number_sections": true,
   "sideBar": true,
   "skip_h1_title": false,
   "title_cell": "Table of Contents",
   "title_sidebar": "Contents",
   "toc_cell": false,
   "toc_position": {},
   "toc_section_display": true,
   "toc_window_display": false
  },
  "varInspector": {
   "cols": {
    "lenName": 16,
    "lenType": 16,
    "lenVar": 40
   },
   "kernels_config": {
    "python": {
     "delete_cmd_postfix": "",
     "delete_cmd_prefix": "del ",
     "library": "var_list.py",
     "varRefreshCmd": "print(var_dic_list())"
    },
    "r": {
     "delete_cmd_postfix": ") ",
     "delete_cmd_prefix": "rm(",
     "library": "var_list.r",
     "varRefreshCmd": "cat(var_dic_list()) "
    }
   },
   "types_to_exclude": [
    "module",
    "function",
    "builtin_function_or_method",
    "instance",
    "_Feature"
   ],
   "window_display": false
  }
 },
 "nbformat": 4,
 "nbformat_minor": 5
}
