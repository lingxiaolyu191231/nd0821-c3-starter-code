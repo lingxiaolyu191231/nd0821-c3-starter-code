{
 "cells": [
  {
   "cell_type": "code",
   "execution_count": 16,
   "id": "f0c468ed",
   "metadata": {},
   "outputs": [
    {
     "name": "stdout",
     "output_type": "stream",
     "text": [
      "Requirement already satisfied: pandas_profiling in /Users/lingxiaolyu/anaconda/anaconda3/envs/fastapi/lib/python3.8/site-packages (3.0.0)\n",
      "Requirement already satisfied: jinja2>=2.11.1 in /Users/lingxiaolyu/anaconda/anaconda3/envs/fastapi/lib/python3.8/site-packages (from pandas_profiling) (3.0.1)\n",
      "Requirement already satisfied: matplotlib>=3.2.0 in /Users/lingxiaolyu/anaconda/anaconda3/envs/fastapi/lib/python3.8/site-packages (from pandas_profiling) (3.4.3)\n",
      "Requirement already satisfied: joblib in /Users/lingxiaolyu/anaconda/anaconda3/envs/fastapi/lib/python3.8/site-packages (from pandas_profiling) (1.0.1)\n",
      "Requirement already satisfied: numpy>=1.16.0 in /Users/lingxiaolyu/anaconda/anaconda3/envs/fastapi/lib/python3.8/site-packages (from pandas_profiling) (1.21.2)\n",
      "Requirement already satisfied: PyYAML>=5.0.0 in /Users/lingxiaolyu/anaconda/anaconda3/envs/fastapi/lib/python3.8/site-packages (from pandas_profiling) (5.4.1)\n",
      "Requirement already satisfied: visions[type_image_path]==0.7.1 in /Users/lingxiaolyu/anaconda/anaconda3/envs/fastapi/lib/python3.8/site-packages (from pandas_profiling) (0.7.1)\n",
      "Requirement already satisfied: tqdm>=4.48.2 in /Users/lingxiaolyu/anaconda/anaconda3/envs/fastapi/lib/python3.8/site-packages (from pandas_profiling) (4.62.2)\n",
      "Requirement already satisfied: missingno>=0.4.2 in /Users/lingxiaolyu/anaconda/anaconda3/envs/fastapi/lib/python3.8/site-packages (from pandas_profiling) (0.5.0)\n",
      "Requirement already satisfied: seaborn>=0.10.1 in /Users/lingxiaolyu/anaconda/anaconda3/envs/fastapi/lib/python3.8/site-packages (from pandas_profiling) (0.11.2)\n",
      "Requirement already satisfied: htmlmin>=0.1.12 in /Users/lingxiaolyu/anaconda/anaconda3/envs/fastapi/lib/python3.8/site-packages (from pandas_profiling) (0.1.12)\n",
      "Requirement already satisfied: pandas!=1.0.0,!=1.0.1,!=1.0.2,!=1.1.0,>=0.25.3 in /Users/lingxiaolyu/anaconda/anaconda3/envs/fastapi/lib/python3.8/site-packages (from pandas_profiling) (1.3.2)\n",
      "Requirement already satisfied: tangled-up-in-unicode==0.1.0 in /Users/lingxiaolyu/anaconda/anaconda3/envs/fastapi/lib/python3.8/site-packages (from pandas_profiling) (0.1.0)\n",
      "Requirement already satisfied: phik>=0.11.1 in /Users/lingxiaolyu/anaconda/anaconda3/envs/fastapi/lib/python3.8/site-packages (from pandas_profiling) (0.12.0)\n",
      "Requirement already satisfied: requests>=2.24.0 in /Users/lingxiaolyu/anaconda/anaconda3/envs/fastapi/lib/python3.8/site-packages (from pandas_profiling) (2.26.0)\n",
      "Requirement already satisfied: scipy>=1.4.1 in /Users/lingxiaolyu/anaconda/anaconda3/envs/fastapi/lib/python3.8/site-packages (from pandas_profiling) (1.7.1)\n",
      "Requirement already satisfied: pydantic>=1.8.1 in /Users/lingxiaolyu/anaconda/anaconda3/envs/fastapi/lib/python3.8/site-packages (from pandas_profiling) (1.8.2)\n",
      "Requirement already satisfied: networkx>=2.4 in /Users/lingxiaolyu/anaconda/anaconda3/envs/fastapi/lib/python3.8/site-packages (from visions[type_image_path]==0.7.1->pandas_profiling) (2.6.2)\n",
      "Requirement already satisfied: attrs>=19.3.0 in /Users/lingxiaolyu/anaconda/anaconda3/envs/fastapi/lib/python3.8/site-packages (from visions[type_image_path]==0.7.1->pandas_profiling) (21.2.0)\n",
      "Requirement already satisfied: bottleneck in /Users/lingxiaolyu/anaconda/anaconda3/envs/fastapi/lib/python3.8/site-packages (from visions[type_image_path]==0.7.1->pandas_profiling) (1.3.2)\n",
      "Requirement already satisfied: multimethod==1.4 in /Users/lingxiaolyu/anaconda/anaconda3/envs/fastapi/lib/python3.8/site-packages (from visions[type_image_path]==0.7.1->pandas_profiling) (1.4)\n",
      "Requirement already satisfied: imagehash in /Users/lingxiaolyu/anaconda/anaconda3/envs/fastapi/lib/python3.8/site-packages (from visions[type_image_path]==0.7.1->pandas_profiling) (4.2.1)\n",
      "Requirement already satisfied: Pillow in /Users/lingxiaolyu/anaconda/anaconda3/envs/fastapi/lib/python3.8/site-packages (from visions[type_image_path]==0.7.1->pandas_profiling) (8.3.1)\n",
      "Requirement already satisfied: MarkupSafe>=2.0 in /Users/lingxiaolyu/anaconda/anaconda3/envs/fastapi/lib/python3.8/site-packages (from jinja2>=2.11.1->pandas_profiling) (2.0.1)\n",
      "Requirement already satisfied: cycler>=0.10 in /Users/lingxiaolyu/anaconda/anaconda3/envs/fastapi/lib/python3.8/site-packages (from matplotlib>=3.2.0->pandas_profiling) (0.10.0)\n",
      "Requirement already satisfied: kiwisolver>=1.0.1 in /Users/lingxiaolyu/anaconda/anaconda3/envs/fastapi/lib/python3.8/site-packages (from matplotlib>=3.2.0->pandas_profiling) (1.3.1)\n",
      "Requirement already satisfied: pyparsing>=2.2.1 in /Users/lingxiaolyu/anaconda/anaconda3/envs/fastapi/lib/python3.8/site-packages (from matplotlib>=3.2.0->pandas_profiling) (2.4.7)\n",
      "Requirement already satisfied: python-dateutil>=2.7 in /Users/lingxiaolyu/anaconda/anaconda3/envs/fastapi/lib/python3.8/site-packages (from matplotlib>=3.2.0->pandas_profiling) (2.8.2)\n",
      "Requirement already satisfied: six in /Users/lingxiaolyu/anaconda/anaconda3/envs/fastapi/lib/python3.8/site-packages (from cycler>=0.10->matplotlib>=3.2.0->pandas_profiling) (1.16.0)\n",
      "Requirement already satisfied: pytz>=2017.3 in /Users/lingxiaolyu/anaconda/anaconda3/envs/fastapi/lib/python3.8/site-packages (from pandas!=1.0.0,!=1.0.1,!=1.0.2,!=1.1.0,>=0.25.3->pandas_profiling) (2021.1)\n",
      "Requirement already satisfied: typing-extensions>=3.7.4.3 in /Users/lingxiaolyu/anaconda/anaconda3/envs/fastapi/lib/python3.8/site-packages (from pydantic>=1.8.1->pandas_profiling) (3.10.0.0)\n",
      "Requirement already satisfied: charset-normalizer~=2.0.0 in /Users/lingxiaolyu/anaconda/anaconda3/envs/fastapi/lib/python3.8/site-packages (from requests>=2.24.0->pandas_profiling) (2.0.0)\n",
      "Requirement already satisfied: certifi>=2017.4.17 in /Users/lingxiaolyu/anaconda/anaconda3/envs/fastapi/lib/python3.8/site-packages (from requests>=2.24.0->pandas_profiling) (2021.5.30)\n",
      "Requirement already satisfied: idna<4,>=2.5 in /Users/lingxiaolyu/anaconda/anaconda3/envs/fastapi/lib/python3.8/site-packages (from requests>=2.24.0->pandas_profiling) (3.1)\n",
      "Requirement already satisfied: urllib3<1.27,>=1.21.1 in /Users/lingxiaolyu/anaconda/anaconda3/envs/fastapi/lib/python3.8/site-packages (from requests>=2.24.0->pandas_profiling) (1.26.6)\n",
      "Requirement already satisfied: PyWavelets in /Users/lingxiaolyu/anaconda/anaconda3/envs/fastapi/lib/python3.8/site-packages (from imagehash->visions[type_image_path]==0.7.1->pandas_profiling) (1.1.1)\n"
     ]
    }
   ],
   "source": [
    "import numpy as np\n",
    "import pandas as pd\n",
    "!pip install pandas_profiling\n",
    "from pandas_profiling import ProfileReport"
   ]
  },
  {
   "cell_type": "code",
   "execution_count": 17,
   "id": "f5df29ed",
   "metadata": {},
   "outputs": [],
   "source": [
    "df = pd.read_csv(\"census.csv\")"
   ]
  },
  {
   "cell_type": "code",
   "execution_count": 18,
   "id": "cc8c16f5",
   "metadata": {},
   "outputs": [],
   "source": [
    "profile = ProfileReport(df, title=\"Pandas Profiling Report\")"
   ]
  },
  {
   "cell_type": "code",
   "execution_count": 19,
   "id": "c522437e",
   "metadata": {},
   "outputs": [
    {
     "data": {
      "application/vnd.jupyter.widget-view+json": {
       "model_id": "0b5c2e66a65d4f82bdba753fc28ea1dc",
       "version_major": 2,
       "version_minor": 0
      },
      "text/plain": [
       "Summarize dataset:   0%|          | 0/28 [00:00<?, ?it/s]"
      ]
     },
     "metadata": {},
     "output_type": "display_data"
    },
    {
     "data": {
      "application/vnd.jupyter.widget-view+json": {
       "model_id": "798e56abc6d44221a6f728213668e5a9",
       "version_major": 2,
       "version_minor": 0
      },
      "text/plain": [
       "Generate report structure:   0%|          | 0/1 [00:00<?, ?it/s]"
      ]
     },
     "metadata": {},
     "output_type": "display_data"
    },
    {
     "data": {
      "application/vnd.jupyter.widget-view+json": {
       "model_id": "4d4573dd16894c9f808ec5a01d3dae31",
       "version_major": 2,
       "version_minor": 0
      },
      "text/plain": [
       "Render HTML:   0%|          | 0/1 [00:00<?, ?it/s]"
      ]
     },
     "metadata": {},
     "output_type": "display_data"
    },
    {
     "data": {
      "application/vnd.jupyter.widget-view+json": {
       "model_id": "37dd9ab8bc07478c93d1349e2b129959",
       "version_major": 2,
       "version_minor": 0
      },
      "text/plain": [
       "Export report to file:   0%|          | 0/1 [00:00<?, ?it/s]"
      ]
     },
     "metadata": {},
     "output_type": "display_data"
    }
   ],
   "source": [
    "profile.to_file(\"output.html\")"
   ]
  },
  {
   "cell_type": "code",
   "execution_count": 20,
   "id": "34fe1eea",
   "metadata": {},
   "outputs": [
    {
     "data": {
      "text/plain": [
       "(32561, 15)"
      ]
     },
     "execution_count": 20,
     "metadata": {},
     "output_type": "execute_result"
    }
   ],
   "source": [
    "df.shape"
   ]
  },
  {
   "cell_type": "code",
   "execution_count": 21,
   "id": "974e64c3",
   "metadata": {},
   "outputs": [],
   "source": [
    "df.drop_duplicates(inplace=True)"
   ]
  },
  {
   "cell_type": "code",
   "execution_count": 22,
   "id": "eb20469c",
   "metadata": {},
   "outputs": [],
   "source": [
    "df.columns = [i.replace(' ','') for i in df.columns]"
   ]
  },
  {
   "cell_type": "code",
   "execution_count": 23,
   "id": "fbf405b7",
   "metadata": {},
   "outputs": [],
   "source": [
    "df.to_csv(\"clean_data.csv\",index=False)"
   ]
  },
  {
   "cell_type": "code",
   "execution_count": 15,
   "id": "b4246ac5",
   "metadata": {},
   "outputs": [
    {
     "data": {
      "text/html": [
       "<div>\n",
       "<style scoped>\n",
       "    .dataframe tbody tr th:only-of-type {\n",
       "        vertical-align: middle;\n",
       "    }\n",
       "\n",
       "    .dataframe tbody tr th {\n",
       "        vertical-align: top;\n",
       "    }\n",
       "\n",
       "    .dataframe thead th {\n",
       "        text-align: right;\n",
       "    }\n",
       "</style>\n",
       "<table border=\"1\" class=\"dataframe\">\n",
       "  <thead>\n",
       "    <tr style=\"text-align: right;\">\n",
       "      <th></th>\n",
       "      <th>age</th>\n",
       "      <th>workclass</th>\n",
       "      <th>fnlgt</th>\n",
       "      <th>education</th>\n",
       "      <th>education-num</th>\n",
       "      <th>marital-status</th>\n",
       "      <th>occupation</th>\n",
       "      <th>relationship</th>\n",
       "      <th>race</th>\n",
       "      <th>sex</th>\n",
       "      <th>capital-gain</th>\n",
       "      <th>capital-loss</th>\n",
       "      <th>hours-per-week</th>\n",
       "      <th>native-country</th>\n",
       "      <th>salary</th>\n",
       "    </tr>\n",
       "  </thead>\n",
       "  <tbody>\n",
       "    <tr>\n",
       "      <th>0</th>\n",
       "      <td>39</td>\n",
       "      <td>State-gov</td>\n",
       "      <td>77516</td>\n",
       "      <td>Bachelors</td>\n",
       "      <td>13</td>\n",
       "      <td>Never-married</td>\n",
       "      <td>Adm-clerical</td>\n",
       "      <td>Not-in-family</td>\n",
       "      <td>White</td>\n",
       "      <td>Male</td>\n",
       "      <td>2174</td>\n",
       "      <td>0</td>\n",
       "      <td>40</td>\n",
       "      <td>United-States</td>\n",
       "      <td>&lt;=50K</td>\n",
       "    </tr>\n",
       "    <tr>\n",
       "      <th>1</th>\n",
       "      <td>50</td>\n",
       "      <td>Self-emp-not-inc</td>\n",
       "      <td>83311</td>\n",
       "      <td>Bachelors</td>\n",
       "      <td>13</td>\n",
       "      <td>Married-civ-spouse</td>\n",
       "      <td>Exec-managerial</td>\n",
       "      <td>Husband</td>\n",
       "      <td>White</td>\n",
       "      <td>Male</td>\n",
       "      <td>0</td>\n",
       "      <td>0</td>\n",
       "      <td>13</td>\n",
       "      <td>United-States</td>\n",
       "      <td>&lt;=50K</td>\n",
       "    </tr>\n",
       "    <tr>\n",
       "      <th>2</th>\n",
       "      <td>38</td>\n",
       "      <td>Private</td>\n",
       "      <td>215646</td>\n",
       "      <td>HS-grad</td>\n",
       "      <td>9</td>\n",
       "      <td>Divorced</td>\n",
       "      <td>Handlers-cleaners</td>\n",
       "      <td>Not-in-family</td>\n",
       "      <td>White</td>\n",
       "      <td>Male</td>\n",
       "      <td>0</td>\n",
       "      <td>0</td>\n",
       "      <td>40</td>\n",
       "      <td>United-States</td>\n",
       "      <td>&lt;=50K</td>\n",
       "    </tr>\n",
       "    <tr>\n",
       "      <th>3</th>\n",
       "      <td>53</td>\n",
       "      <td>Private</td>\n",
       "      <td>234721</td>\n",
       "      <td>11th</td>\n",
       "      <td>7</td>\n",
       "      <td>Married-civ-spouse</td>\n",
       "      <td>Handlers-cleaners</td>\n",
       "      <td>Husband</td>\n",
       "      <td>Black</td>\n",
       "      <td>Male</td>\n",
       "      <td>0</td>\n",
       "      <td>0</td>\n",
       "      <td>40</td>\n",
       "      <td>United-States</td>\n",
       "      <td>&lt;=50K</td>\n",
       "    </tr>\n",
       "    <tr>\n",
       "      <th>4</th>\n",
       "      <td>28</td>\n",
       "      <td>Private</td>\n",
       "      <td>338409</td>\n",
       "      <td>Bachelors</td>\n",
       "      <td>13</td>\n",
       "      <td>Married-civ-spouse</td>\n",
       "      <td>Prof-specialty</td>\n",
       "      <td>Wife</td>\n",
       "      <td>Black</td>\n",
       "      <td>Female</td>\n",
       "      <td>0</td>\n",
       "      <td>0</td>\n",
       "      <td>40</td>\n",
       "      <td>Cuba</td>\n",
       "      <td>&lt;=50K</td>\n",
       "    </tr>\n",
       "    <tr>\n",
       "      <th>...</th>\n",
       "      <td>...</td>\n",
       "      <td>...</td>\n",
       "      <td>...</td>\n",
       "      <td>...</td>\n",
       "      <td>...</td>\n",
       "      <td>...</td>\n",
       "      <td>...</td>\n",
       "      <td>...</td>\n",
       "      <td>...</td>\n",
       "      <td>...</td>\n",
       "      <td>...</td>\n",
       "      <td>...</td>\n",
       "      <td>...</td>\n",
       "      <td>...</td>\n",
       "      <td>...</td>\n",
       "    </tr>\n",
       "    <tr>\n",
       "      <th>32532</th>\n",
       "      <td>27</td>\n",
       "      <td>Private</td>\n",
       "      <td>257302</td>\n",
       "      <td>Assoc-acdm</td>\n",
       "      <td>12</td>\n",
       "      <td>Married-civ-spouse</td>\n",
       "      <td>Tech-support</td>\n",
       "      <td>Wife</td>\n",
       "      <td>White</td>\n",
       "      <td>Female</td>\n",
       "      <td>0</td>\n",
       "      <td>0</td>\n",
       "      <td>38</td>\n",
       "      <td>United-States</td>\n",
       "      <td>&lt;=50K</td>\n",
       "    </tr>\n",
       "    <tr>\n",
       "      <th>32533</th>\n",
       "      <td>40</td>\n",
       "      <td>Private</td>\n",
       "      <td>154374</td>\n",
       "      <td>HS-grad</td>\n",
       "      <td>9</td>\n",
       "      <td>Married-civ-spouse</td>\n",
       "      <td>Machine-op-inspct</td>\n",
       "      <td>Husband</td>\n",
       "      <td>White</td>\n",
       "      <td>Male</td>\n",
       "      <td>0</td>\n",
       "      <td>0</td>\n",
       "      <td>40</td>\n",
       "      <td>United-States</td>\n",
       "      <td>&gt;50K</td>\n",
       "    </tr>\n",
       "    <tr>\n",
       "      <th>32534</th>\n",
       "      <td>58</td>\n",
       "      <td>Private</td>\n",
       "      <td>151910</td>\n",
       "      <td>HS-grad</td>\n",
       "      <td>9</td>\n",
       "      <td>Widowed</td>\n",
       "      <td>Adm-clerical</td>\n",
       "      <td>Unmarried</td>\n",
       "      <td>White</td>\n",
       "      <td>Female</td>\n",
       "      <td>0</td>\n",
       "      <td>0</td>\n",
       "      <td>40</td>\n",
       "      <td>United-States</td>\n",
       "      <td>&lt;=50K</td>\n",
       "    </tr>\n",
       "    <tr>\n",
       "      <th>32535</th>\n",
       "      <td>22</td>\n",
       "      <td>Private</td>\n",
       "      <td>201490</td>\n",
       "      <td>HS-grad</td>\n",
       "      <td>9</td>\n",
       "      <td>Never-married</td>\n",
       "      <td>Adm-clerical</td>\n",
       "      <td>Own-child</td>\n",
       "      <td>White</td>\n",
       "      <td>Male</td>\n",
       "      <td>0</td>\n",
       "      <td>0</td>\n",
       "      <td>20</td>\n",
       "      <td>United-States</td>\n",
       "      <td>&lt;=50K</td>\n",
       "    </tr>\n",
       "    <tr>\n",
       "      <th>32536</th>\n",
       "      <td>52</td>\n",
       "      <td>Self-emp-inc</td>\n",
       "      <td>287927</td>\n",
       "      <td>HS-grad</td>\n",
       "      <td>9</td>\n",
       "      <td>Married-civ-spouse</td>\n",
       "      <td>Exec-managerial</td>\n",
       "      <td>Wife</td>\n",
       "      <td>White</td>\n",
       "      <td>Female</td>\n",
       "      <td>15024</td>\n",
       "      <td>0</td>\n",
       "      <td>40</td>\n",
       "      <td>United-States</td>\n",
       "      <td>&gt;50K</td>\n",
       "    </tr>\n",
       "  </tbody>\n",
       "</table>\n",
       "<p>32537 rows × 15 columns</p>\n",
       "</div>"
      ],
      "text/plain": [
       "       age          workclass   fnlgt    education   education-num  \\\n",
       "0       39          State-gov   77516    Bachelors              13   \n",
       "1       50   Self-emp-not-inc   83311    Bachelors              13   \n",
       "2       38            Private  215646      HS-grad               9   \n",
       "3       53            Private  234721         11th               7   \n",
       "4       28            Private  338409    Bachelors              13   \n",
       "...    ...                ...     ...          ...             ...   \n",
       "32532   27            Private  257302   Assoc-acdm              12   \n",
       "32533   40            Private  154374      HS-grad               9   \n",
       "32534   58            Private  151910      HS-grad               9   \n",
       "32535   22            Private  201490      HS-grad               9   \n",
       "32536   52       Self-emp-inc  287927      HS-grad               9   \n",
       "\n",
       "            marital-status          occupation    relationship    race  \\\n",
       "0            Never-married        Adm-clerical   Not-in-family   White   \n",
       "1       Married-civ-spouse     Exec-managerial         Husband   White   \n",
       "2                 Divorced   Handlers-cleaners   Not-in-family   White   \n",
       "3       Married-civ-spouse   Handlers-cleaners         Husband   Black   \n",
       "4       Married-civ-spouse      Prof-specialty            Wife   Black   \n",
       "...                    ...                 ...             ...     ...   \n",
       "32532   Married-civ-spouse        Tech-support            Wife   White   \n",
       "32533   Married-civ-spouse   Machine-op-inspct         Husband   White   \n",
       "32534              Widowed        Adm-clerical       Unmarried   White   \n",
       "32535        Never-married        Adm-clerical       Own-child   White   \n",
       "32536   Married-civ-spouse     Exec-managerial            Wife   White   \n",
       "\n",
       "           sex   capital-gain   capital-loss   hours-per-week  native-country  \\\n",
       "0         Male           2174              0               40   United-States   \n",
       "1         Male              0              0               13   United-States   \n",
       "2         Male              0              0               40   United-States   \n",
       "3         Male              0              0               40   United-States   \n",
       "4       Female              0              0               40            Cuba   \n",
       "...        ...            ...            ...              ...             ...   \n",
       "32532   Female              0              0               38   United-States   \n",
       "32533     Male              0              0               40   United-States   \n",
       "32534   Female              0              0               40   United-States   \n",
       "32535     Male              0              0               20   United-States   \n",
       "32536   Female          15024              0               40   United-States   \n",
       "\n",
       "       salary  \n",
       "0       <=50K  \n",
       "1       <=50K  \n",
       "2       <=50K  \n",
       "3       <=50K  \n",
       "4       <=50K  \n",
       "...       ...  \n",
       "32532   <=50K  \n",
       "32533    >50K  \n",
       "32534   <=50K  \n",
       "32535   <=50K  \n",
       "32536    >50K  \n",
       "\n",
       "[32537 rows x 15 columns]"
      ]
     },
     "execution_count": 15,
     "metadata": {},
     "output_type": "execute_result"
    }
   ],
   "source": [
    "pd.read_csv(\"clean_data.csv\")"
   ]
  },
  {
   "cell_type": "code",
   "execution_count": null,
   "id": "637ccd0c",
   "metadata": {},
   "outputs": [],
   "source": []
  }
 ],
 "metadata": {
  "kernelspec": {
   "display_name": "Python 3",
   "language": "python",
   "name": "python3"
  },
  "language_info": {
   "codemirror_mode": {
    "name": "ipython",
    "version": 3
   },
   "file_extension": ".py",
   "mimetype": "text/x-python",
   "name": "python",
   "nbconvert_exporter": "python",
   "pygments_lexer": "ipython3",
   "version": "3.8.5"
  },
  "latex_envs": {
   "LaTeX_envs_menu_present": true,
   "autoclose": true,
   "autocomplete": true,
   "bibliofile": "biblio.bib",
   "cite_by": "apalike",
   "current_citInitial": 1,
   "eqLabelWithNumbers": true,
   "eqNumInitial": 1,
   "hotkeys": {
    "equation": "Ctrl-E",
    "itemize": "Ctrl-I"
   },
   "labels_anchors": false,
   "latex_user_defs": false,
   "report_style_numbering": false,
   "user_envs_cfg": false
  },
  "toc": {
   "base_numbering": 1,
   "nav_menu": {},
   "number_sections": true,
   "sideBar": true,
   "skip_h1_title": false,
   "title_cell": "Table of Contents",
   "title_sidebar": "Contents",
   "toc_cell": false,
   "toc_position": {},
   "toc_section_display": true,
   "toc_window_display": false
  },
  "varInspector": {
   "cols": {
    "lenName": 16,
    "lenType": 16,
    "lenVar": 40
   },
   "kernels_config": {
    "python": {
     "delete_cmd_postfix": "",
     "delete_cmd_prefix": "del ",
     "library": "var_list.py",
     "varRefreshCmd": "print(var_dic_list())"
    },
    "r": {
     "delete_cmd_postfix": ") ",
     "delete_cmd_prefix": "rm(",
     "library": "var_list.r",
     "varRefreshCmd": "cat(var_dic_list()) "
    }
   },
   "types_to_exclude": [
    "module",
    "function",
    "builtin_function_or_method",
    "instance",
    "_Feature"
   ],
   "window_display": false
  }
 },
 "nbformat": 4,
 "nbformat_minor": 5
}
